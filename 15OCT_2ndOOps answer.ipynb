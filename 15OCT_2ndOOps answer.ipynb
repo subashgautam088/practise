{
 "cells": [
  {
   "cell_type": "markdown",
   "id": "ef7fcf08-82e0-49ff-b1bd-1412b4cd990c",
   "metadata": {},
   "source": [
    "2nd OOPS ASSIGNMENT ANSWER"
   ]
  },
  {
   "cell_type": "markdown",
   "id": "33933be5-7068-427b-82d4-20de30c5f15e",
   "metadata": {},
   "source": [
    "##    1\n",
    "#  In Python, a constructor is a special method that is automatically called when an object of a class is created. It is used to initialize the attributes of the object. The constructor method is named `__init__` and is defined within a class.The constructor is essential for ensuring that objects have a well-defined and consistent state upon creation. It allows you to specify how objects should be initialized, making it easier to work with instances of the class throughout the program. Constructors play a crucial role in object-oriented programming by facilitating the encapsulation of data and behavior within class instances."
   ]
  },
  {
   "cell_type": "code",
   "execution_count": 1,
   "id": "9d47320f-fd87-4a00-a565-a6b5a27cdd05",
   "metadata": {},
   "outputs": [
    {
     "name": "stdout",
     "output_type": "stream",
     "text": [
      "This is a parameterless constructor.\n",
      "10\n",
      "20\n"
     ]
    }
   ],
   "source": [
    "##    2\n",
    "# Differentiate between the two:\n",
    "\n",
    "### 1. Parameterless Constructor:-\n",
    "\n",
    "# A parameterless constructor is a constructor that takes no parameters other than `self`. It is defined without any additional parameters besides the instance itself. Its purpose is to initialize the object with default values or perform some basic setup tasks without requiring any external input.\n",
    "\n",
    "##  Syntax:-  \n",
    "class ParameterlessConstructorExample:\n",
    "     def __init__(self):\n",
    "        print(\"This is a parameterless constructor.\")\n",
    "\n",
    "# Creating an object of the class\n",
    "obj = ParameterlessConstructorExample()  # Output: \"This is a parameterless constructor.\"\n",
    "\n",
    "### 2. Parameterized Constructor:-\n",
    "\n",
    "# A parameterized constructor is a constructor that takes one or more parameters in addition to `self`. It is used when you want to initialize the object's attributes with specific values provided during the object's creation. Parameterized constructors allow you to pass values from outside the class to initialize the object's attributes.\n",
    "\n",
    "#    Syntax:-  \n",
    "class ParameterizedConstructorExample:\n",
    "    def __init__(self, value1, value2):\n",
    "        self.attribute1 = value1\n",
    "        self.attribute2 = value2\n",
    "\n",
    "# Creating an object of the class with specific values\n",
    "obj = ParameterizedConstructorExample(10, 20)\n",
    "print(obj.attribute1)  # Output: 10\n",
    "print(obj.attribute2)  # Output: 20\n"
   ]
  },
  {
   "cell_type": "code",
   "execution_count": 6,
   "id": "c6cdec9f-ae9f-4329-b15c-6c174b45424d",
   "metadata": {},
   "outputs": [],
   "source": [
    "###   3\n",
    "# In Python, a constructor is defined using a special method called __init__. This method is automatically called when a new instance of a class is created. Syntax :-\n",
    "class ClassName:\n",
    "  def __init__(self, parameter1, parameter2):\n",
    "      # initialization code\n",
    "      self.attribute1 = parameter1\n",
    "      self.attribute2 = parameter2\n",
    "      # ... more initialization code\n",
    "\n",
    "# Creating an object of the class\n",
    "obj = ClassName(4, 4544)"
   ]
  },
  {
   "cell_type": "markdown",
   "id": "b46d1b19-4e6b-46d7-90ca-d2ddc8ac1b57",
   "metadata": {},
   "source": [
    "####    4\n",
    "# __init__ method is called a constructor and this method is  automatically called when a new instance of a class is created.The name __init__ stands for \"initialize\" and is a reserved method name in Python classes. It's role are :- \n",
    "#1 Initialization:- The role of the __init__ method is to initialize the attributes of the object.\n",
    "#2 Automatic Invocation:- When you create an instance of a class, the __init__ method is automatically invoked without needing to explicitly call it.\n",
    "#3 Parameters:- The __init__ method takes the instance itself (self) as its first parameter, followed by any additional parameters you want to pass when creating an object.\n",
    "#4 Attributes:- Inside the __init__ method, you can initialize the object's attributes by assigning values to them using the self keyword.\n"
   ]
  },
  {
   "cell_type": "code",
   "execution_count": null,
   "id": "ca55fe71-f4f7-4a56-a0d8-e511d96d928b",
   "metadata": {},
   "outputs": [],
   "source": []
  }
 ],
 "metadata": {
  "kernelspec": {
   "display_name": "Python 3 (ipykernel)",
   "language": "python",
   "name": "python3"
  },
  "language_info": {
   "codemirror_mode": {
    "name": "ipython",
    "version": 3
   },
   "file_extension": ".py",
   "mimetype": "text/x-python",
   "name": "python",
   "nbconvert_exporter": "python",
   "pygments_lexer": "ipython3",
   "version": "3.10.8"
  }
 },
 "nbformat": 4,
 "nbformat_minor": 5
}
